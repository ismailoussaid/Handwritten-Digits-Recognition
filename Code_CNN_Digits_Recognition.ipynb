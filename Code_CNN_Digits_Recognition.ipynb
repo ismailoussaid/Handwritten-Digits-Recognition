{
 "cells": [
  {
   "cell_type": "markdown",
   "metadata": {
    "colab_type": "text",
    "id": "InzAkXaJ9DCl"
   },
   "source": [
    "#**Librairies Importation**"
   ]
  },
  {
   "cell_type": "code",
   "execution_count": 0,
   "metadata": {
    "colab": {},
    "colab_type": "code",
    "id": "redW7TwE8dgn"
   },
   "outputs": [],
   "source": [
    "#Data Visualization\n",
    "\n",
    "import pandas as pd\n",
    "import numpy as np\n",
    "import matplotlib.pyplot as plt\n",
    "\n",
    "#import Deep Learning librairies\n",
    "\n",
    "import tensorflow as tf\n",
    "import keras\n",
    "from tensorflow.keras.models import Sequential\n",
    "from tensorflow.keras.wrappers.scikit_learn import KerasClassifier\n",
    "from keras.utils.np_utils import to_categorical # convert to one-hot-encoding\n",
    "from tensorflow.keras.layers import Dense, Dropout, Flatten, Conv2D, MaxPool2D\n",
    "from tensorflow.keras.optimizers import RMSprop\n",
    "from tensorflow.keras.preprocessing.image import ImageDataGenerator\n",
    "from tensorflow.keras.callbacks import ReduceLROnPlateau\n",
    "\n",
    "# Sampling\n",
    "from sklearn.model_selection import train_test_split"
   ]
  },
  {
   "cell_type": "markdown",
   "metadata": {
    "colab_type": "text",
    "id": "mXfekdEZ83Uk"
   },
   "source": [
    "# **DATA IMPORTATION & SHAPING**"
   ]
  },
  {
   "cell_type": "code",
   "execution_count": 0,
   "metadata": {
    "colab": {},
    "colab_type": "code",
    "id": "6N6b_FuP8zRT"
   },
   "outputs": [],
   "source": [
    "train = pd.read_csv('train.csv').drop('label',axis =1)\n",
    "label = pd.read_csv('train.csv')['label']\n",
    "test = pd.read_csv('test.csv')"
   ]
  },
  {
   "cell_type": "markdown",
   "metadata": {
    "colab_type": "text",
    "id": "6NEvdQRN66N2"
   },
   "source": [
    "Let's check the distribution of the labels to see if we need to make a smart sampling(upsampling, downsampling, smote, etc)"
   ]
  },
  {
   "cell_type": "code",
   "execution_count": 0,
   "metadata": {
    "colab": {
     "base_uri": "https://localhost:8080/",
     "height": 202
    },
    "colab_type": "code",
    "id": "XesVLHgs63ib",
    "outputId": "e0926a3a-a3f6-40ea-c55e-4a33ff41c041"
   },
   "outputs": [
    {
     "data": {
      "text/plain": [
       "1    4684\n",
       "7    4401\n",
       "3    4351\n",
       "9    4188\n",
       "2    4177\n",
       "6    4137\n",
       "0    4132\n",
       "4    4072\n",
       "8    4063\n",
       "5    3795\n",
       "Name: label, dtype: int64"
      ]
     },
     "execution_count": 19,
     "metadata": {
      "tags": []
     },
     "output_type": "execute_result"
    }
   ],
   "source": [
    "label.value_counts()"
   ]
  },
  {
   "cell_type": "code",
   "execution_count": 0,
   "metadata": {
    "colab": {
     "base_uri": "https://localhost:8080/",
     "height": 332
    },
    "colab_type": "code",
    "id": "YWgmd6KQGnl8",
    "outputId": "c249a8aa-456f-4df9-bdfe-52616216d510"
   },
   "outputs": [
    {
     "data": {
      "text/plain": [
       "(array([4132., 4684., 4177., 4351., 4072., 3795., 4137., 4401., 4063.,\n",
       "        4188.]),\n",
       " array([0. , 0.9, 1.8, 2.7, 3.6, 4.5, 5.4, 6.3, 7.2, 8.1, 9. ]),\n",
       " <a list of 10 Patch objects>)"
      ]
     },
     "execution_count": 29,
     "metadata": {
      "tags": []
     },
     "output_type": "execute_result"
    },
    {
     "data": {
      "image/png": "[encoded data removed]",
      "text/plain": [
       "<Figure size 432x288 with 1 Axes>"
      ]
     },
     "metadata": {
      "tags": []
     },
     "output_type": "display_data"
    }
   ],
   "source": [
    "plt.hist(label)"
   ]
  },
  {
   "cell_type": "markdown",
   "metadata": {
    "colab_type": "text",
    "id": "nc4XTaJh7F7B"
   },
   "source": [
    "As we can see, the data is well distributed. Hence, we can work on the label dataset with no specific sampling."
   ]
  },
  {
   "cell_type": "code",
   "execution_count": 0,
   "metadata": {
    "colab": {},
    "colab_type": "code",
    "id": "TQvyvQHw9K2Z"
   },
   "outputs": [],
   "source": [
    "#Normalization\n",
    "\n",
    "train = train/255\n",
    "test = test/255\n",
    "\n",
    "#Reshape to create images 28x28x1\n",
    "\n",
    "train = train.values.reshape(-1,28,28,1)\n",
    "test = test.values.reshape(-1,28,28,1)"
   ]
  },
  {
   "cell_type": "markdown",
   "metadata": {
    "colab_type": "text",
    "id": "V4prRpZs7q3t"
   },
   "source": [
    "First question to ask: Which model do I use?\n",
    "It is obvious that Deep Learning is more adapted and research papers and articles on the net suggests that CNN is a very common model for such topic. Then, I will implement a **CNN on Tensorflow 2.0**."
   ]
  },
  {
   "cell_type": "markdown",
   "metadata": {
    "colab_type": "text",
    "id": "F23-dcGB9LNj"
   },
   "source": [
    "To have a concise notebook, I have chosen this time to implement what I consider being the most important steps. Here I will discuss details I have worked on but didn't choose to put them in the Notebook:\n",
    "\n",
    "* For the optimizer, I have chosen **Adam optimizer** as I have tried **RMSprop** (*lower accuracy by ~ 1%*) & **AdaDelta** (*very slow to converge*)\n",
    "\n",
    "* In researchs I have made, the pool size = (2,2) is common and we don't need to change it\n",
    "\n",
    "* To avoid overfitting, I have chosen to work for the first time to **Dropout**\n",
    "\n",
    "* For the cross validation, I choose a **5-fold (80%/20%)**\n",
    "\n",
    "* The number of Conv2D, I have tried one, two or three. One Conv2D was not efficient and three Conv2D were less efficient than two Conv2D. Then, **[2 Conv2D -> MaxPool2D -> Droupout]** will be used.\n",
    "\n",
    "* For the number blocks of the last structure, I have to choose between one, two or three **[2 Conv2D -> MaxPool2D -> Droupout]** because bigger structure takes very much time to train. I ran the code with theses structures and I have noticed that one underfits, three overfits. The better structure is: **[2 Conv2D -> MaxPool2D -> Droupout]*2**\n",
    "\n",
    "* At the end of **[2 Conv2D -> MaxPool2D -> Droupout]*2**, I choose to put a fully connected structure, I have implemented the CNN with one, two or three hidden layers. One was the more efficent."
   ]
  },
  {
   "cell_type": "markdown",
   "metadata": {
    "colab_type": "text",
    "id": "sxZg89oqBdun"
   },
   "source": [
    "Now, I will just check how much **Data Augmentation** makes the model more robust. So I will use the optimized CNN that I found with Grid Search on Data augmented dataset (you can check it on the code: *architecture_optimization.ipynb*)"
   ]
  },
  {
   "cell_type": "markdown",
   "metadata": {
    "colab_type": "text",
    "id": "1NJbKwgFJtAw"
   },
   "source": [
    "# **Model with no Data Augmentation / Adam / SCE**"
   ]
  },
  {
   "cell_type": "code",
   "execution_count": 0,
   "metadata": {
    "colab": {
     "base_uri": "https://localhost:8080/",
     "height": 881
    },
    "colab_type": "code",
    "id": "zSJ8xTO3FpQ9",
    "outputId": "971c030d-1ef8-434d-eda1-4212567087d6"
   },
   "outputs": [
    {
     "name": "stdout",
     "output_type": "stream",
     "text": [
      "Train on 33600 samples, validate on 8400 samples\n",
      "Epoch 1/8\n",
      "33600/33600 - 510s - loss: 0.3360 - acc: 0.8932 - val_loss: 0.0778 - val_acc: 0.9777\n",
      "Epoch 2/8\n",
      "33600/33600 - 506s - loss: 0.1045 - acc: 0.9683 - val_loss: 0.0565 - val_acc: 0.9840\n",
      "Epoch 3/8\n",
      "33600/33600 - 504s - loss: 0.0787 - acc: 0.9775 - val_loss: 0.0439 - val_acc: 0.9855\n",
      "Epoch 4/8\n",
      "33600/33600 - 502s - loss: 0.0599 - acc: 0.9824 - val_loss: 0.0360 - val_acc: 0.9895\n",
      "Epoch 5/8\n",
      "33600/33600 - 507s - loss: 0.0517 - acc: 0.9852 - val_loss: 0.0382 - val_acc: 0.9889\n",
      "Epoch 6/8\n",
      "33600/33600 - 509s - loss: 0.0472 - acc: 0.9854 - val_loss: 0.0344 - val_acc: 0.9904\n",
      "Epoch 7/8\n",
      "33600/33600 - 506s - loss: 0.0419 - acc: 0.9877 - val_loss: 0.0323 - val_acc: 0.9908\n",
      "Epoch 8/8\n",
      "33600/33600 - 508s - loss: 0.0353 - acc: 0.9894 - val_loss: 0.0313 - val_acc: 0.9918\n"
     ]
    },
    {
     "data": {
      "image/png": "[encoded data removed]",
      "text/plain": [
       "<Figure size 720x720 with 2 Axes>"
      ]
     },
     "metadata": {
      "tags": []
     },
     "output_type": "display_data"
    }
   ],
   "source": [
    "# Define CNN:\n",
    "#[Conv2D->relu]*2 with n filters -> MaxPool2D (2,2) -> Dropout -> \n",
    "#[Conv2D->relu]*2 with m filters -> MaxPool2D (2,2) -> Dropout ->\n",
    "#Flatten -> Dense with p nodes -> Dropout -> Out\n",
    "\n",
    "model = Sequential()\n",
    "\n",
    "model.add(Conv2D(filters = 64, kernel_size = (5,5),padding = 'Same', \n",
    "                 activation ='relu', input_shape = (28,28,1)))\n",
    "model.add(Conv2D(filters = 64, kernel_size = (5,5),padding = 'Same', \n",
    "                 activation ='relu'))\n",
    "model.add(MaxPool2D(pool_size=(2,2)))\n",
    "model.add(Dropout(0.25))\n",
    "\n",
    "\n",
    "model.add(Conv2D(filters = 64, kernel_size = (3,3),padding = 'Same', \n",
    "                 activation ='relu'))\n",
    "model.add(Conv2D(filters = 64, kernel_size = (3,3),padding = 'Same', \n",
    "                 activation ='relu'))\n",
    "model.add(MaxPool2D(pool_size=(2,2), strides=(2,2)))\n",
    "model.add(Dropout(0.25))\n",
    "\n",
    "\n",
    "model.add(Flatten())\n",
    "model.add(Dense(128, activation = \"relu\"))\n",
    "model.add(Dropout(0.5))\n",
    "model.add(Dense(10, activation = \"softmax\")) #10 possible outputs because it is a 10-class problem\n",
    "\n",
    "# Compile the model\n",
    "model.compile(optimizer = 'adam' , loss = \"sparse_categorical_crossentropy\", metrics=[\"accuracy\"])\n",
    "\n",
    "epochs = 8\n",
    "batch_size = 100\n",
    "\n",
    "# Split the train and the validation set for the fitting\n",
    "X_train, X_val, Y_train, Y_val = train_test_split(train, label, test_size = 0.2, random_state=2)\n",
    "\n",
    "# Without data augmentation: accuracy of 0.98971 on Kaggle\n",
    "history_CNN_adam = model.fit(X_train, Y_train, batch_size = batch_size, epochs = epochs, \n",
    "                    validation_data = (X_val, Y_val), verbose = 2)\n",
    "\n",
    "training_loss = history_CNN_adam.history['loss']\n",
    "validation_loss = history_CNN_adam.history['val_loss']\n",
    "training_acc = history_CNN_adam.history['acc']\n",
    "validation_acc = history_CNN_adam.history['val_acc']\n",
    "\n",
    "# Plot the loss and accuracy curves for training and validation \n",
    "fig, ax = plt.subplots(2,1,figsize=(10,10))\n",
    "ax[0].plot(training_loss, color='b', label=\"Training loss\")\n",
    "ax[0].plot(validation_loss, color='r', label=\"validation loss\",axes =ax[0])\n",
    "legend = ax[0].legend(loc='best', shadow=True)\n",
    "\n",
    "ax[1].plot(training_acc, color='b', label=\"Training accuracy\")\n",
    "ax[1].plot(validation_acc, color='r',label=\"Validation accuracy\")\n",
    "legend = ax[1].legend(loc='best', shadow=True)\n",
    "\n",
    "# predict results\n",
    "sub = model.predict(test)\n",
    "\n",
    "# select the indix with the maximum probability\n",
    "sub = np.argmax(sub,axis = 1)\n",
    "\n",
    "sub_df = pd.Series(sub,name=\"Label\")\n",
    "\n",
    "submission = pd.concat([pd.Series(range(1,test.shape[0]+1), name = \"ImageId\"), sub_df],axis = 1)\n",
    "\n",
    "submission.to_csv(\"ismail_CNN_nda_adam_sce_conv_64.csv\",index=False)"
   ]
  },
  {
   "cell_type": "markdown",
   "metadata": {
    "colab_type": "text",
    "id": "JKqMyOcVEdT0"
   },
   "source": [
    "When I submit the result on Kaggle, I get: 0.98985 accuracy and the CV accuracy is 0.9918."
   ]
  },
  {
   "cell_type": "markdown",
   "metadata": {
    "colab_type": "text",
    "id": "U2ZvpfnEbUrv"
   },
   "source": [
    "# **Model with Data Augmentation / Adam / SCE**"
   ]
  },
  {
   "cell_type": "code",
   "execution_count": 0,
   "metadata": {
    "colab": {
     "base_uri": "https://localhost:8080/",
     "height": 420
    },
    "colab_type": "code",
    "id": "6Sn1YaRLbUe-",
    "outputId": "6e1d2240-cdcc-457b-c54e-11fb8b0ec8d1"
   },
   "outputs": [
    {
     "name": "stdout",
     "output_type": "stream",
     "text": [
      "Epoch 1\n",
      "Train on 33600 samples, validate on 8400 samples\n",
      "33600/33600 [==============================] - 512s 15ms/sample - loss: 0.2483 - acc: 0.9201 - val_loss: 0.0774 - val_acc: 0.9771\n",
      "Epoch 2\n",
      "Train on 33600 samples, validate on 8400 samples\n",
      "33600/33600 [==============================] - 514s 15ms/sample - loss: 0.0922 - acc: 0.9736 - val_loss: 0.0526 - val_acc: 0.9843\n",
      "Epoch 3\n",
      "Train on 33600 samples, validate on 8400 samples\n",
      "33600/33600 [==============================] - 514s 15ms/sample - loss: 0.0706 - acc: 0.9789 - val_loss: 0.0363 - val_acc: 0.9896\n",
      "Epoch 4\n",
      "Train on 33600 samples, validate on 8400 samples\n",
      "33600/33600 [==============================] - 512s 15ms/sample - loss: 0.0581 - acc: 0.9831 - val_loss: 0.0386 - val_acc: 0.9886\n",
      "Epoch 5\n",
      "Train on 33600 samples, validate on 8400 samples\n",
      "33600/33600 [==============================] - 513s 15ms/sample - loss: 0.0510 - acc: 0.9844 - val_loss: 0.0343 - val_acc: 0.9905\n",
      "Epoch 6\n",
      "Train on 33600 samples, validate on 8400 samples\n",
      "33600/33600 [==============================] - 512s 15ms/sample - loss: 0.0422 - acc: 0.9876 - val_loss: 0.0293 - val_acc: 0.9908\n",
      "Epoch 7\n",
      "Train on 33600 samples, validate on 8400 samples\n",
      "33600/33600 [==============================] - 515s 15ms/sample - loss: 0.0396 - acc: 0.9884 - val_loss: 0.0368 - val_acc: 0.9899\n",
      "Epoch 8\n",
      "Train on 33600 samples, validate on 8400 samples\n",
      "33600/33600 [==============================] - 522s 16ms/sample - loss: 0.0364 - acc: 0.9891 - val_loss: 0.0296 - val_acc: 0.9926\n"
     ]
    }
   ],
   "source": [
    "# Define CNN:\n",
    "#[Conv2D->relu]*2 with n filters -> MaxPool2D (2,2) -> Dropout -> \n",
    "#[Conv2D->relu]*2 with m filters -> MaxPool2D (2,2) -> Dropout ->\n",
    "#Flatten -> Dense with p nodes -> Dropout -> Out\n",
    "\n",
    "model = Sequential()\n",
    "\n",
    "model.add(Conv2D(filters = 64, kernel_size = (5,5),padding = 'Same', \n",
    "                 activation ='relu', input_shape = (28,28,1)))\n",
    "model.add(Conv2D(filters = 64, kernel_size = (5,5),padding = 'Same', \n",
    "                 activation ='relu'))\n",
    "model.add(MaxPool2D(pool_size=(2,2)))\n",
    "model.add(Dropout(0.25))\n",
    "\n",
    "\n",
    "model.add(Conv2D(filters = 64, kernel_size = (3,3),padding = 'Same', \n",
    "                 activation ='relu'))\n",
    "model.add(Conv2D(filters = 64, kernel_size = (3,3),padding = 'Same', \n",
    "                 activation ='relu'))\n",
    "model.add(MaxPool2D(pool_size=(2,2), strides=(2,2)))\n",
    "model.add(Dropout(0.25))\n",
    "\n",
    "\n",
    "model.add(Flatten())\n",
    "model.add(Dense(128, activation = \"relu\"))\n",
    "model.add(Dropout(0.5))\n",
    "model.add(Dense(10, activation = \"softmax\")) #10 possible outputs because it is a 10-class problem\n",
    "\n",
    "# Compile the model\n",
    "model.compile(optimizer = 'Adam' , loss = \"sparse_categorical_crossentropy\", metrics=[\"accuracy\"])\n",
    "\n",
    "epochs = 8\n",
    "batch_size = 100\n",
    "\n",
    "# Split the train and the validation set for the fitting\n",
    "X_train, X_val, Y_train, Y_val = train_test_split(train, label, test_size = 0.2, random_state=2)\n",
    "\n",
    "# Manual data augmentation\n",
    "\n",
    "datagen = ImageDataGenerator(rotation_range=20,\n",
    "                             zoom_range=0.2\n",
    "                             )\n",
    "\n",
    "datagen.fit(X_train)\n",
    "\n",
    "training_loss = []\n",
    "validation_loss = []\n",
    "training_acc = []\n",
    "validation_acc = []\n",
    "\n",
    "# With data augmentation: accuracy of 0.9920 on Kaggle\n",
    "\n",
    "for e in range(1,epochs+1):\n",
    "\n",
    "    print('Epoch', e)\n",
    "    batches = 0\n",
    "\n",
    "    for x_batch, y_batch in datagen.flow(X_train, Y_train, batch_size=batch_size):\n",
    "\n",
    "        x_train, x_val, y_train, y_val = train_test_split(x_batch, y_batch, test_size = 0.2, random_state=2)\n",
    "        history_CNN_adam_da = model.fit(X_train, Y_train, validation_data = (X_val, Y_val))\n",
    "        training_loss.append(history_CNN_adam_da.history['loss'])\n",
    "        validation_loss.append(history_CNN_adam_da.history['val_loss'])\n",
    "        training_acc.append(history_CNN_adam_da.history['acc'])\n",
    "        validation_acc.append(history_CNN_adam_da.history['val_acc'])\n",
    "        batches += 1\n",
    "\n",
    "        if batches >= 1:\n",
    "            # we need to break the loop by hand because\n",
    "            # the generator loops indefinitely\n",
    "            break"
   ]
  },
  {
   "cell_type": "code",
   "execution_count": 0,
   "metadata": {
    "colab": {
     "base_uri": "https://localhost:8080/",
     "height": 592
    },
    "colab_type": "code",
    "id": "c3BpBuI-SLaF",
    "outputId": "5606796e-08ab-49da-a958-0af4fd10e5bd"
   },
   "outputs": [
    {
     "data": {
      "image/png": "[encoded data removed]",
      "text/plain": [
       "<Figure size 720x720 with 2 Axes>"
      ]
     },
     "metadata": {
      "tags": []
     },
     "output_type": "display_data"
    }
   ],
   "source": [
    "# Plot the loss and accuracy curves for training and validation\n",
    "\n",
    "training_loss = np.array(training_loss)\n",
    "validation_loss = np.array(validation_loss)\n",
    "training_acc = np.array(training_acc)\n",
    "validation_acc = np.array(validation_acc)\n",
    "\n",
    "fig, ax = plt.subplots(2,1,figsize=(10,10))\n",
    "\n",
    "#Plot loss curves\n",
    "\n",
    "ax[0].plot(training_loss, color='b', label=\"Training Loss\")\n",
    "ax[0].plot(validation_loss, color='r', label=\"Validation Loss\",axes =ax[0])\n",
    "legend = ax[0].legend(loc='best', shadow=True)\n",
    "\n",
    "# Plot accuracy curves\n",
    "ax[1].plot(training_acc, color='b', label=\"Training Accuracy\")\n",
    "ax[1].plot(validation_acc, color='r',label=\"Validation Accuracy\")\n",
    "legend = ax[1].legend(loc='best', shadow=True)"
   ]
  },
  {
   "cell_type": "code",
   "execution_count": 0,
   "metadata": {
    "colab": {},
    "colab_type": "code",
    "id": "NZMYqsBSSNrD"
   },
   "outputs": [],
   "source": [
    "# predict results\n",
    "sub = model.predict(test)\n",
    "\n",
    "# Takes the maximum probability digit\n",
    "sub = np.argmax(sub,axis = 1)\n",
    "\n",
    "#Build pandas Dataframe\n",
    "sub_df = pd.Series(sub,name=\"Label\")\n",
    "submission = pd.concat([pd.Series(range(1,test.shape[0]+1), name = \"ImageId\"), sub_df],axis = 1)\n",
    "\n",
    "#Save csv submission file to submit prediction of Kaggle\n",
    "submission.to_csv(\"ismail_CNN_da_adam_sce_optimal_conv_8.csv\",index=False)"
   ]
  },
  {
   "cell_type": "markdown",
   "metadata": {
    "colab_type": "text",
    "id": "6dW2Q3pIEle6"
   },
   "source": [
    "When I submit the result on Kaggle, I get: 0.99200 accuracy and the CV accuracy 0.9926. Here, I end my 2 days job. Thanks for reading !"
   ]
  },
  {
   "cell_type": "code",
   "execution_count": 0,
   "metadata": {
    "colab": {
     "base_uri": "https://localhost:8080/",
     "height": 282
    },
    "colab_type": "code",
    "id": "aD3Vg_ndKwr1",
    "outputId": "579d3151-c008-4c84-d9f3-5fd4d3856518"
   },
   "outputs": [
    {
     "data": {
      "text/plain": [
       "<matplotlib.image.AxesImage at 0x7f5e90f3be10>"
      ]
     },
     "execution_count": 51,
     "metadata": {
      "tags": []
     },
     "output_type": "execute_result"
    },
    {
     "data": {
      "image/png": "[encoded data removed]",
      "text/plain": [
       "<Figure size 432x288 with 1 Axes>"
      ]
     },
     "metadata": {
      "tags": []
     },
     "output_type": "display_data"
    }
   ],
   "source": [
    "plt.imshow(test[0][:,:,0])"
   ]
  },
  {
   "cell_type": "code",
   "execution_count": 0,
   "metadata": {
    "colab": {
     "base_uri": "https://localhost:8080/",
     "height": 516
    },
    "colab_type": "code",
    "id": "_WK5Km5VHvDf",
    "outputId": "2ad238d1-71f1-41a6-fa86-6d376fc3fa14"
   },
   "outputs": [
    {
     "data": {
      "image/png": "[encoded data removed]",
      "text/plain": [
       "<Figure size 864x576 with 6 Axes>"
      ]
     },
     "metadata": {
      "tags": []
     },
     "output_type": "display_data"
    },
    {
     "data": {
      "text/plain": [
       "<Figure size 432x288 with 0 Axes>"
      ]
     },
     "metadata": {
      "tags": []
     },
     "output_type": "display_data"
    }
   ],
   "source": [
    "import random \n",
    "\n",
    "ax = []\n",
    "fig = plt.figure(figsize=(12, 8))\n",
    "\n",
    "for i in range(1,7):\n",
    "    random_number = random.randrange(1, 20001, 1)\n",
    "    img = test[random_number][:,:,0]\n",
    "    # create subplot and append to ax\n",
    "    ax.append( fig.add_subplot(2, 3, i) )\n",
    "    ax[-1].set_title(\"The predicted digit is: \" + str(sub[random_number]))\n",
    "    plt.subplots_adjust(hspace=0.5) \n",
    "    plt.imshow(img)\n",
    "\n",
    "plt.show()"
   ]
  },
  {
   "cell_type": "markdown",
   "metadata": {
    "colab_type": "text",
    "id": "3IsZEpcxE17M"
   },
   "source": [
    "References & inspirations:\n",
    "* *Recognition of Handwritten Digit using\n",
    "Convolutional Neural Network in Python with\n",
    "Tensorflow and Comparison of Performance for\n",
    "Various Hidden Layers* by Fathma Siddique,Shadman Sakib & Md. Abu Bakr Siddique: https://arxiv.org/ftp/arxiv/papers/1909/1909.08490.pdf\n",
    "* *How to choose CNN Architecture MNIST* by Chris Deotte: https://www.kaggle.com/cdeotte/how-to-choose-cnn-architecture-mnist\n",
    "* *Introduction to CNN Keras - 0.997 (top 6%)* by Yassine Ghouzam: https://www.kaggle.com/yassineghouzam/introduction-to-cnn-keras-0-997-top-6\n"
   ]
  }
 ],
 "metadata": {
  "colab": {
   "name": "Code_CNN_Digits_Recognition.ipynb",
   "provenance": []
  },
  "kernelspec": {
   "display_name": "Python 3",
   "language": "python",
   "name": "python3"
  },
  "language_info": {
   "codemirror_mode": {
    "name": "ipython",
    "version": 3
   },
   "file_extension": ".py",
   "mimetype": "text/x-python",
   "name": "python",
   "nbconvert_exporter": "python",
   "pygments_lexer": "ipython3",
   "version": "3.7.4"
  }
 },
 "nbformat": 4,
 "nbformat_minor": 1
}
